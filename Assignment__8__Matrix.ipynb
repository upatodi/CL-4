{
 "cells": [
  {
   "cell_type": "markdown",
   "id": "8dd58cd8",
   "metadata": {},
   "source": [
    "<!-- use this command in cmd - spark-shell -->"
   ]
  },
  {
   "cell_type": "code",
   "execution_count": 1,
   "id": "d41a6356-fcde-4941-975a-3d1b45ec2cb4",
   "metadata": {},
   "outputs": [],
   "source": [
    "import findspark\n",
    "findspark.init()"
   ]
  },
  {
   "cell_type": "code",
   "execution_count": 2,
   "id": "cfb8a88d-ea5c-4df6-b7cb-9e7e72f83f3c",
   "metadata": {},
   "outputs": [],
   "source": [
    "import pyspark\n"
   ]
  },
  {
   "cell_type": "code",
   "execution_count": 3,
   "id": "7679de48-9513-41e8-ab1a-01ffcb3752e0",
   "metadata": {},
   "outputs": [
    {
     "name": "stdout",
     "output_type": "stream",
     "text": [
      "+---+---+------+\n",
      "|row|col|result|\n",
      "+---+---+------+\n",
      "|  0|  1|    41|\n",
      "|  0|  0|    36|\n",
      "|  1|  0|    64|\n",
      "|  1|  1|    73|\n",
      "+---+---+------+\n",
      "\n"
     ]
    }
   ],
   "source": [
    "from pyspark.sql import SparkSession\n",
    "\n",
    "# Create a SparkSession\n",
    "spark = SparkSession.builder \\\n",
    "    .appName(\"MatrixMultiplication\") \\\n",
    "    .getOrCreate()\n",
    "\n",
    "# Sample matrices\n",
    "matrix1 = [\n",
    "    (0, 0, 2),\n",
    "    (0, 1, 3),\n",
    "    (1, 0, 4),\n",
    "    (1, 1, 5)\n",
    "]\n",
    "\n",
    "matrix2 = [\n",
    "    (0, 0, 6),\n",
    "    (0, 1, 7),\n",
    "    (1, 0, 8),\n",
    "    (1, 1, 9)\n",
    "]\n",
    "\n",
    "# Create RDDs from the matrices\n",
    "matrix1_rdd = spark.sparkContext.parallelize(matrix1)\n",
    "matrix2_rdd = spark.sparkContext.parallelize(matrix2)\n",
    "\n",
    "# Perform matrix multiplication using map-reduce\n",
    "result_rdd = matrix1_rdd.flatMap(lambda x: [((x[0], y[1]), x[2] * y[2]) for y in matrix2 if x[1] == y[0]]). \\\n",
    "    reduceByKey(lambda x, y: x + y)\n",
    "\n",
    "\n",
    "# Convert RDD to DataFrame\n",
    "result_df = spark.createDataFrame(result_rdd.map(lambda x: (x[0][0], x[0][1], x[1])), [\"row\", \"col\", \"result\"])\n",
    "\n",
    "# Display the result\n",
    "result_df.show()\n",
    "\n",
    "# Stop SparkSession\n",
    "spark.stop()\n"
   ]
  },
  {
   "cell_type": "code",
   "execution_count": null,
   "id": "2c6b3f7c-99f7-414f-a5be-2aef637eff89",
   "metadata": {},
   "outputs": [],
   "source": [
    "from pyspark.sql import SparkSession: This line imports the SparkSession class from the pyspark.sql module. SparkSession is the entry point to Spark SQL functionality and allows the creation and management of DataFrame objects.\n",
    "spark = SparkSession.builder \\ .appName(\"MatrixMultiplication\") \\ .getOrCreate(): This code creates a SparkSession named \"MatrixMultiplication\" if it doesn't already exist. The appName method sets the name of the application.\n",
    "matrix1 and matrix2: These variables hold sample matrices represented as lists of tuples. Each tuple contains three elements: row index, column index, and value.\n",
    "matrix1_rdd and matrix2_rdd: These variables create RDDs (Resilient Distributed Datasets) from the sample matrices using parallelize. RDDs are the fundamental data structure in Spark.\n",
    "result_rdd: This variable performs matrix multiplication using map-reduce operations on the RDDs. It flattens matrix1_rdd and matrix2_rdd, multiplies corresponding elements, and then reduces by key to sum up the results.\n",
    "result_df: This variable converts the resulting RDD to a DataFrame using createDataFrame. It maps each tuple in the RDD to a tuple with three elements: row index, column index, and result. It also specifies column names as \"row\", \"col\", and \"result\".\n",
    "result_df.show(): This line displays the DataFrame containing the result of the matrix multiplication.\n",
    "spark.stop(): This line stops the SparkSession, releasing the resources associated with it.\n",
    "In summary, this code demonstrates how to perform matrix multiplication using PySpark RDDs and then convert the result into a DataFrame for easy visualization and further analysis."
   ]
  }
 ],
 "metadata": {
  "kernelspec": {
   "display_name": "Python 3 (ipykernel)",
   "language": "python",
   "name": "python3"
  },
  "language_info": {
   "codemirror_mode": {
    "name": "ipython",
    "version": 3
   },
   "file_extension": ".py",
   "mimetype": "text/x-python",
   "name": "python",
   "nbconvert_exporter": "python",
   "pygments_lexer": "ipython3",
   "version": "3.10.11"
  }
 },
 "nbformat": 4,
 "nbformat_minor": 5
}
