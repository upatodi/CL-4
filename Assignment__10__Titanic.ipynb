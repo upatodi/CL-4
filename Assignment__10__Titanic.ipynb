{
 "cells": [
  {
   "cell_type": "markdown",
   "id": "8dd58cd8",
   "metadata": {},
   "source": [
    "<!-- use this command in cmd - spark-shell -->"
   ]
  },
  {
   "cell_type": "code",
   "execution_count": 5,
   "id": "8dce8afe-3718-4630-949d-5d308e8fd6ed",
   "metadata": {},
   "outputs": [
    {
     "name": "stdout",
     "output_type": "stream",
     "text": [
      "Number of male passengers who died: 468\n",
      "Average age of male passengers who died: 24.321581196581196\n",
      "Number of deceased passengers in each class among females:\n",
      "+------+-----+\n",
      "|Pclass|count|\n",
      "+------+-----+\n",
      "|     3|   72|\n",
      "|     2|    6|\n",
      "|     1|    3|\n",
      "+------+-----+\n",
      "\n"
     ]
    }
   ],
   "source": [
    "from pyspark.sql import SparkSession\n",
    "import seaborn as sns\n",
    "\n",
    "# Create a SparkSession\n",
    "spark = SparkSession.builder \\\n",
    "    .appName(\"TitanicAnalysis\") \\\n",
    "    .getOrCreate()\n",
    "\n",
    "# Load the Titanic dataset\n",
    "titanic_df = spark.createDataFrame(sns.load_dataset(\"titanic\"))\n",
    "\n",
    "titanic_df = titanic_df.fillna({'Age': 0})\n",
    "\n",
    "# Filter data for male passengers who died and remove null values from Age column\n",
    "male_deceased = titanic_df.filter((titanic_df[\"Sex\"] == \"male\") & (titanic_df[\"Survived\"] == 0) & titanic_df[\"Age\"].isNotNull())\n",
    "\n",
    "# Check if there are any male passengers who died\n",
    "male_deceased_count = male_deceased.count()\n",
    "\n",
    "if male_deceased_count > 0:\n",
    "    # Calculate the average age of male passengers who died\n",
    "# Calculate the average age of male passengers who died\n",
    "    male_deceased_age_avg = male_deceased.agg({\"Age\": \"avg\"}).collect()[0][0]\n",
    "    print(\"Number of male passengers who died:\", male_deceased_count)\n",
    "    print(\"Average age of male passengers who died:\", male_deceased_age_avg)\n",
    "else:\n",
    "    print(\"No male passengers found who died in the dataset.\")\n",
    "    \n",
    "female_deceased_by_class = titanic_df.filter((titanic_df[\"Sex\"] == \"female\") & (titanic_df[\"Survived\"] == 0)).groupBy(\"Pclass\").count()\n",
    "\n",
    "# Display results\n",
    "print(\"Number of deceased passengers in each class among females:\")\n",
    "female_deceased_by_class.show()\n",
    "# Stop SparkSession\n",
    "spark.stop()\n"
   ]
  },
  {
   "cell_type": "code",
   "execution_count": null,
   "id": "2c6b3f7c-99f7-414f-a5be-2aef637eff89",
   "metadata": {},
   "outputs": [],
   "source": [
    "from pyspark.sql import SparkSession: Imports the SparkSession class from the pyspark.sql module. SparkSession is the entry point to Spark SQL functionality.\n",
    "import seaborn as sns: Imports the Seaborn library, which is used for data visualization.\n",
    "spark = SparkSession.builder \\ .appName(\"TitanicAnalysis\") \\ .getOrCreate(): Creates a SparkSession named \"TitanicAnalysis\". appName sets the name of the application.\n",
    "titanic_df = spark.createDataFrame(sns.load_dataset(\"titanic\")): Loads the Titanic dataset using Seaborn's load_dataset function and converts it into a Spark DataFrame using createDataFrame.\n",
    "titanic_df = titanic_df.fillna({'Age': 0}): Fills missing values in the \"Age\" column with 0.\n",
    "male_deceased = titanic_df.filter((titanic_df[\"Sex\"] == \"male\") & (titanic_df[\"Survived\"] == 0) & titanic_df[\"Age\"].isNotNull()): Filters the DataFrame to select male passengers who did not survive and whose age is not null.\n",
    "male_deceased_count = male_deceased.count(): Counts the number of male passengers who did not survive.\n",
    "if male_deceased_count > 0:: Checks if there are male passengers who did not survive.\n",
    "male_deceased_age_avg = male_deceased.agg({\"Age\": \"avg\"}).collect()[0][0]: Calculates the average age of male passengers who did not survive using the agg function with the avg aggregate function.\n",
    "print(\"Number of male passengers who died:\", male_deceased_count): Prints the number of male passengers who did not survive.\n",
    "print(\"Average age of male passengers who died:\", male_deceased_age_avg): Prints the average age of male passengers who did not survive.\n",
    "female_deceased_by_class = titanic_df.filter((titanic_df[\"Sex\"] == \"female\") & (titanic_df[\"Survived\"] == 0)).groupBy(\"Pclass\").count(): Filters the DataFrame to select female passengers who did not survive, groups them by passenger class, and counts the number of passengers in each class.\n",
    "print(\"Number of deceased passengers in each class among females:\"): Prints a message.\n",
    "female_deceased_by_class.show(): Displays the number of deceased passengers in each class among females.\n",
    "spark.stop(): Stops the SparkSession, releasing the resources associated with it.\n",
    "In summary, this code performs basic analysis on the Titanic dataset using PySpark. It calculates the number and average age of male passengers who did not survive, as well as the number of deceased passengers in each class among females."
   ]
  }
 ],
 "metadata": {
  "kernelspec": {
   "display_name": "Python 3 (ipykernel)",
   "language": "python",
   "name": "python3"
  },
  "language_info": {
   "codemirror_mode": {
    "name": "ipython",
    "version": 3
   },
   "file_extension": ".py",
   "mimetype": "text/x-python",
   "name": "python",
   "nbconvert_exporter": "python",
   "pygments_lexer": "ipython3",
   "version": "3.10.11"
  }
 },
 "nbformat": 4,
 "nbformat_minor": 5
}
